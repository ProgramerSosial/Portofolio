{
 "cells": [
  {
   "cell_type": "code",
   "execution_count": null,
   "id": "0fe47183",
   "metadata": {},
   "outputs": [],
   "source": [
    "!pip install selenium\n",
    "!pip install pandas\n",
    "!pip install chromedriver-autoinstaller\n",
    "!pip install BeautifulSoup4"
   ]
  },
  {
   "cell_type": "code",
   "execution_count": null,
   "id": "edb7771a",
   "metadata": {},
   "outputs": [],
   "source": [
    "#AmbilDataBeritaDetik\n",
    "from bs4 import BeautifulSoup\n",
    "import requests\n",
    "import pandas as pd\n",
    "from selenium import webdriver\n",
    "\n",
    "Data = []\n",
    "i = 1\n",
    "\n",
    "for page in range(29):\n",
    "    url = \"https://www.detik.com/search/searchall?query=Pencemaran++Pesut+Kalimantan+Timur+&siteid=2&sortby=time&page=\" + str(page)\n",
    "    response = requests.get(url)\n",
    "    if response.status_code == 200:\n",
    "        soup = BeautifulSoup(response.text, 'html.parser')\n",
    "    else:\n",
    "        print(\"Gagal mengunduh halaman web\")\n",
    "\n",
    "    beritas = soup.findAll('div', class_='lSfe4c r5bEn aI5QMe')\n",
    "\n",
    "    for berita in beritas:\n",
    "        judulBeritaElement = berita.find('div', class_='n0jPhd ynAwRc MBeuO nDgy9d')\n",
    "        if judulBeritaElement:\n",
    "            judulBerita = judulBeritaElement.text.strip()\n",
    "        tanggalBeritaElement = berita.find('div', class_='OSrXXb rbYSKb LfVVr')\n",
    "        if tanggalBeritaElement:\n",
    "            tanggalBerita = tanggalBeritaElement.text.strip()\n",
    "        kontenBerita= berita.find('p').text\n",
    "        Data.append({'Nomor': i, 'Judul': judulBerita, 'tanggal': tanggalBerita})\n",
    "        i+=1\n",
    "        print(Data[-1])"
   ]
  }
 ],
 "metadata": {
  "kernelspec": {
   "display_name": "Python 3 (ipykernel)",
   "language": "python",
   "name": "python3"
  },
  "language_info": {
   "codemirror_mode": {
    "name": "ipython",
    "version": 3
   },
   "file_extension": ".py",
   "mimetype": "text/x-python",
   "name": "python",
   "nbconvert_exporter": "python",
   "pygments_lexer": "ipython3",
   "version": "3.11.5"
  }
 },
 "nbformat": 4,
 "nbformat_minor": 5
}
