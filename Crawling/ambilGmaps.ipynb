{
 "cells": [
  {
   "cell_type": "markdown",
   "id": "2d84b2d2-5dad-494d-82e1-f0c8d95e8395",
   "metadata": {},
   "source": [
    "## IMPORT LIBRARY"
   ]
  },
  {
   "cell_type": "code",
   "execution_count": 1,
   "id": "191de395-d5e0-4f98-beb5-2122fd54d636",
   "metadata": {},
   "outputs": [],
   "source": [
    "import selenium\n",
    "from bs4 import BeautifulSoup\n",
    "import requests\n",
    "from selenium import webdriver\n",
    "from selenium.webdriver.common.by import By\n",
    "from selenium.webdriver.common.keys import Keys\n",
    "import time\n",
    "import json\n",
    "from getpass import getpass"
   ]
  },
  {
   "cell_type": "code",
   "execution_count": 2,
   "id": "5e53e17d-249a-44da-80b7-4267508323c3",
   "metadata": {},
   "outputs": [],
   "source": [
    "from selenium import webdriver\n",
    "from selenium.webdriver.common.keys import Keys\n",
    "from selenium.webdriver.support import expected_conditions as EC\n",
    "from selenium.webdriver.common.by import By\n",
    "from selenium.webdriver.support.wait import WebDriverWait\n",
    "from selenium.webdriver.chrome.service import Service\n",
    "import time\n",
    "import re\n",
    "import threading\n",
    "import pandas as pd"
   ]
  },
  {
   "cell_type": "markdown",
   "id": "9d95b685-ac6e-4eac-a72d-c30173bb53a6",
   "metadata": {},
   "source": [
    "## Selenium"
   ]
  },
  {
   "cell_type": "code",
   "execution_count": 8,
   "id": "6199f54f-4be5-4ee9-8455-22edad8ae21c",
   "metadata": {},
   "outputs": [],
   "source": [
    "from selenium import webdriver\n",
    "\n",
    "# Mulai sesi Chrome WebDriver\n",
    "driver = webdriver.Chrome()\n",
    "\n",
    "# Buka halaman web\n",
    "driver.get(\"https://www.google.com\")"
   ]
  },
  {
   "cell_type": "code",
   "execution_count": 9,
   "id": "239087e9-6a85-4d7d-90a3-d48ec12c48ea",
   "metadata": {},
   "outputs": [],
   "source": [
    "from selenium.common.exceptions import NoSuchElementException\n",
    "\n",
    "alamat = []\n",
    "\n",
    "for data in list_sd:\n",
    "    link = \"https://www.google.com/maps/@-6.30523,106.8247251,17z?entry=ttu\"\n",
    "    driver.get(link)\n",
    "    try:\n",
    "        search_input = driver.find_element(By.ID, \"searchboxinput\")\n",
    "        try:\n",
    "            search_input.clear()\n",
    "            search_input.send_keys(\"cari tempat\")\n",
    "        except NoSuchElementException:\n",
    "            print(\"Element 'searchboxinput' not found for clearing\")\n",
    "            \n",
    "        time.sleep(2)\n",
    "        \n",
    "        try:\n",
    "            button_input = driver.find_element(By.ID, \"searchbox-searchbutton\")\n",
    "            button_input.click()\n",
    "        except NoSuchElementException:\n",
    "            print(\"Element 'searchbox-searchbutton' not found for clicking\")\n",
    "        \n",
    "        time.sleep(2)\n",
    "        \n",
    "        try:\n",
    "            hubungin_button = driver.find_element(By.CSS_SELECTOR, \"button.g88MCb.S9kvJb\")\n",
    "            hubungin_button.click()\n",
    "        except NoSuchElementException:\n",
    "            print(\"Element 'hubungin_button' not found for clicking\")\n",
    "        \n",
    "        time.sleep(2)\n",
    "        \n",
    "        try:\n",
    "            search_sekolah = driver.find_element(By.CLASS_NAME, \"tactile-searchbox-input\")\n",
    "            search_sekolah.clear()\n",
    "        except NoSuchElementException:\n",
    "            print(\"Element 'search_sekolah' not found for clearing\")\n",
    "            \n",
    "        time.sleep(2)\n",
    "        \n",
    "        try:\n",
    "            search_sekolah.send_keys(data)\n",
    "            search_sekolah.send_keys(Keys.ENTER)\n",
    "            time.sleep(2)\n",
    "            mobil_jarak = driver.find_element(By.CSS_SELECTOR, \".ivN21e.tUEI8e.fontBodyMedium\")\n",
    "            teks = mobil_jarak.text\n",
    "            alamat.append(teks)\n",
    "        except NoSuchElementException:\n",
    "            alamat.append(\"Teks tidak ditemukan\")\n",
    "            print(\"Teks tidak ditemukan\")\n",
    "        \n",
    "        time.sleep(2)\n",
    "        \n",
    "    except NoSuchElementException:\n",
    "        alamat.append(\"Element tidak ditemukan\")\n",
    "        print(\"Teks tidak ditemukan\")\n"
   ]
  },
  {
   "cell_type": "code",
   "execution_count": null,
   "id": "362e9748-136d-4c98-b984-bfb9cbd04e52",
   "metadata": {},
   "outputs": [],
   "source": []
  },
  {
   "cell_type": "code",
   "execution_count": null,
   "id": "70711924-72f2-4161-9f6f-672bdbcec635",
   "metadata": {},
   "outputs": [],
   "source": []
  }
 ],
 "metadata": {
  "kernelspec": {
   "display_name": "Python 3 (ipykernel)",
   "language": "python",
   "name": "python3"
  },
  "language_info": {
   "codemirror_mode": {
    "name": "ipython",
    "version": 3
   },
   "file_extension": ".py",
   "mimetype": "text/x-python",
   "name": "python",
   "nbconvert_exporter": "python",
   "pygments_lexer": "ipython3",
   "version": "3.11.5"
  }
 },
 "nbformat": 4,
 "nbformat_minor": 5
}
