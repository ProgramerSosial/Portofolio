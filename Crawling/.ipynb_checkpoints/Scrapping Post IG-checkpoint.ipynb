{
 "cells": [
  {
   "cell_type": "code",
   "execution_count": null,
   "id": "5a374572",
   "metadata": {},
   "outputs": [],
   "source": [
    "!pip install selenium\n",
    "!pip install pandas\n",
    "!pip install chromedriver-autoinstaller\n",
    "!pip install BeautifulSoup4\n",
    "!pip install --upgrade selenium"
   ]
  },
  {
   "cell_type": "code",
   "execution_count": null,
   "id": "7a010219",
   "metadata": {},
   "outputs": [],
   "source": [
    "from bs4 import BeautifulSoup\n",
    "import requests\n",
    "from selenium import webdriver\n",
    "from selenium.webdriver.common.by import By\n",
    "from selenium.webdriver.common.keys import Keys\n",
    "import time\n",
    "import json\n",
    "from getpass import getpass"
   ]
  },
  {
   "cell_type": "code",
   "execution_count": null,
   "id": "0c45276f",
   "metadata": {},
   "outputs": [],
   "source": [
    "from selenium import webdriver\n",
    "from selenium.webdriver.common.keys import Keys\n",
    "from selenium.webdriver.support import expected_conditions as EC\n",
    "from selenium.webdriver.common.by import By\n",
    "from selenium.webdriver.support.wait import WebDriverWait\n",
    "from selenium.webdriver.chrome.service import Service\n",
    "import time\n",
    "import re"
   ]
  },
  {
   "cell_type": "code",
   "execution_count": null,
   "id": "c0c0deb1",
   "metadata": {},
   "outputs": [],
   "source": [
    "driver_path = r''masukin path'\n",
    "service = Service(driver_path)\n",
    "driver = webdriver.Chrome(service=service)\n",
    "ig = 'https://www.instagram.com'\n",
    "driver.get(ig)\n",
    "\n",
    "username = WebDriverWait(driver, 10).until(EC.element_to_be_clickable((By.CSS_SELECTOR, \"input[name='username']\")))\n",
    "password = WebDriverWait(driver, 10).until(EC.element_to_be_clickable((By.CSS_SELECTOR, \"input[name='password']\")))\n",
    "\n",
    "#enter username and password\n",
    "username.clear()\n",
    "username.send_keys(\"\")\n",
    "password.clear()\n",
    "password.send_keys(\"\")\n",
    "\n",
    "#target the login button and click it\n",
    "button = WebDriverWait(driver, 10).until(EC.element_to_be_clickable((By.CSS_SELECTOR, \"button[type='submit']\"))).click()\n",
    "time.sleep(5)\n",
    "alert = WebDriverWait(driver, 15).until(EC.element_to_be_clickable((By.XPATH, '//button[contains(text(), \"Save Info\")]'))).click()\n",
    "alert1 = WebDriverWait(driver, 15).until(EC.element_to_be_clickable((By.XPATH, '//button[contains(text(), \"Turn On\")]'))).click()"
   ]
  },
  {
   "cell_type": "code",
   "execution_count": null,
   "id": "ae64807e",
   "metadata": {},
   "outputs": [],
   "source": [
    "keyword = \"kemenkominfo\"\n",
    "driver.get(\"https://www.instagram.com/\" + keyword + \"/\")\n",
    "\n",
    "time.sleep(2)\n",
    "\n",
    "n_scrolls = 10\n",
    "for i in range(1, n_scrolls):\n",
    "    driver.execute_script(\"window.scrollTo(0, document.body.scrollHeight);\")\n",
    "    time.sleep(5)"
   ]
  },
  {
   "cell_type": "code",
   "execution_count": null,
   "id": "48d3284c",
   "metadata": {},
   "outputs": [],
   "source": [
    "# jika ingin scrape data sebanyak jumlah postingannya\n",
    "num_posts = (driver.find_element(By.CSS_SELECTOR, '._ac2a')).text\n",
    "num_posts = num_posts.replace(\",\",\"\")\n",
    "num_posts = int(num_posts)\n",
    "print(num_posts)"
   ]
  },
  {
   "cell_type": "code",
   "execution_count": null,
   "id": "70badfb9",
   "metadata": {},
   "outputs": [],
   "source": [
    "posts = driver.find_elements(By.CSS_SELECTOR,'._aa8k')\n",
    "coll_posts = []\n",
    "temp = ''\n",
    "x = 0\n",
    "y = 21"
   ]
  },
  {
   "cell_type": "code",
   "execution_count": null,
   "id": "336b7a05",
   "metadata": {},
   "outputs": [],
   "source": [
    "pop_up = posts[0].find_element(By.CSS_SELECTOR, '._aagu')\n",
    "pop_up.click()\n",
    "time.sleep(2)"
   ]
  },
  {
   "cell_type": "code",
   "execution_count": null,
   "id": "25dbcece",
   "metadata": {},
   "outputs": [],
   "source": [
    "unique_links = set()\n",
    "w=0\n",
    "# Scroll until the bottom of the page\n",
    "while True:\n",
    "    # Get the current height of the page\n",
    "    before_scroll_height = driver.execute_script(\"return document.body.scrollHeight\")\n",
    "    \n",
    "    anchor_selector = 'a.x1i10hfl.xjbqb8w.x6umtig.x1b1mbwd.xaqea5y.xav7gou.x9f619.x1ypdohk.xt0psk2.xe8uvvx.xdj266r.x11i5rnm.xat24cr.x1mh8g0r.xexx8yu.x4uap5.x18d9i69.xkhd6sd.x16tdsg8.x1hl2dhg.xggy1nq.x1a2a7pz._a6hd'\n",
    "\n",
    "    # Find all anchor elements using the CSS selector\n",
    "    anchor_elements = driver.find_elements(By.CSS_SELECTOR, anchor_selector)\n",
    "\n",
    "\n",
    "    # Filter and print only the links starting with \"https://www.instagram.com/p/\"\n",
    "    for anchor_element in anchor_elements:\n",
    "        href_attribute = anchor_element.get_attribute('href')\n",
    "        if href_attribute.startswith(\"https://www.instagram.com/p/\"):\n",
    "            w=w+1\n",
    "            unique_links.add(href_attribute)\n",
    "\n",
    "\n",
    "    # Scroll down\n",
    "    driver.find_element(By.TAG_NAME, 'body').send_keys(Keys.END)\n",
    "    time.sleep(5)\n",
    "\n",
    "    # Wait for a short interval to let the content load\n",
    "    driver.implicitly_wait(2)  # You can adjust the wait time based on your needs\n",
    "\n",
    "    # Get the new height of the page after scrolling\n",
    "    after_scroll_height = driver.execute_script(\"return document.body.scrollHeight\")\n",
    "\n",
    "    # Check if we have reached the bottom of the page\n",
    "    if after_scroll_height == before_scroll_height:\n",
    "        break\n",
    "\n",
    "print(w)\n",
    "# Convert the set to a list if needed\n",
    "unique_links_list = list(unique_links)\n",
    "\n",
    "# Print the unique links\n",
    "for link in unique_links_list:\n",
    "    print(link)\n"
   ]
  },
  {
   "cell_type": "code",
   "execution_count": null,
   "id": "23851b9a",
   "metadata": {},
   "outputs": [],
   "source": [
    "driver.get(link)"
   ]
  },
  {
   "cell_type": "code",
   "execution_count": null,
   "id": "6a95ddb7",
   "metadata": {},
   "outputs": [],
   "source": [
    "# num_posts dpt diganti n angka, jika hanya ingin mengambil data n postingan\n",
    "for x in range(num_posts):\n",
    "    \n",
    "    x +=1\n",
    "#     print(x)\n",
    "    \n",
    "    dict_posts = {'link' : (driver.find_element(By.CSS_SELECTOR, '.x1i10hfl.xjbqb8w.x6umtig.x1b1mbwd.xaqea5y.xav7gou.x9f619.x1ypdohk.xt0psk2.xe8uvvx.xdj266r.x11i5rnm.xat24cr.x1mh8g0r.xexx8yu.x4uap5.x18d9i69.xkhd6sd.x16tdsg8.x1hl2dhg.xggy1nq.x1a2a7pz._a6hd')).get_attribute('href')}\n",
    "    dict_posts['no'] = x    \n",
    "    dict_posts['date'] = (driver.find_element(By.CSS_SELECTOR, '._aaqe')).get_attribute('title')\n",
    "    dict_posts['img_link'] = (driver.find_element(By.CSS_SELECTOR, '._aagv')).get_attribute('src')\n",
    "\n",
    "    \n",
    "    comments = driver.find_elements(By.CSS_SELECTOR, '.x9f619 xjbqb8w x78zum5 x168nmei x13lgxp2 x5pf9jr xo71vjh x1uhb9sk x1plvlek xryxfnj x1c4vz4f x2lah0s xdt5ytf xqjyukv x1qjc9v5 x1oa3qoh x1nhvcw1')\n",
    "    coll_comments = []\n",
    "\n",
    "    for line_comment in comments:\n",
    "        comment = line_comment.find_elements(By.CSS_SELECTOR, 'div')\n",
    "        single_comment = {'author' : comment[0].text}\n",
    "        single_comment['comment'] = comment[1].text\n",
    "        coll_comments.append(single_comment)\n",
    "\n",
    "    dict_posts['comments'] = coll_comments\n",
    "    coll_posts.append(dict_posts)\n",
    "    if x != 2:\n",
    "        next_but = driver.find_element(By.CSS_SELECTOR, '. _aaqg _aaqh ')\n",
    "        next_but.click()\n",
    "        time.sleep(4)\n",
    "   "
   ]
  },
  {
   "cell_type": "code",
   "execution_count": null,
   "id": "f0b4b64b",
   "metadata": {},
   "outputs": [],
   "source": []
  }
 ],
 "metadata": {
  "kernelspec": {
   "display_name": "Python 3 (ipykernel)",
   "language": "python",
   "name": "python3"
  },
  "language_info": {
   "codemirror_mode": {
    "name": "ipython",
    "version": 3
   },
   "file_extension": ".py",
   "mimetype": "text/x-python",
   "name": "python",
   "nbconvert_exporter": "python",
   "pygments_lexer": "ipython3",
   "version": "3.11.5"
  }
 },
 "nbformat": 4,
 "nbformat_minor": 5
}
