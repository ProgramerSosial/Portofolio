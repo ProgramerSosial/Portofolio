{
 "cells": [
  {
   "cell_type": "code",
   "execution_count": null,
   "id": "14afd5b8",
   "metadata": {
    "scrolled": true
   },
   "outputs": [],
   "source": [
    "!pip install selenium\n",
    "!pip install pandas\n",
    "!pip install chromedriver-autoinstaller\n",
    "!pip install BeautifulSoup4\n"
   ]
  },
  {
   "cell_type": "code",
   "execution_count": null,
   "id": "4713fd80",
   "metadata": {},
   "outputs": [],
   "source": [
    "import requests #manggil librari buat ke web\n",
    "import pandas as pd #buat ngolah data\n",
    "from selenium import webdriver #buat hubungin ke chrome"
   ]
  },
  {
   "cell_type": "code",
   "execution_count": null,
   "id": "a8a0678a",
   "metadata": {},
   "outputs": [],
   "source": [
    "import time\n",
    "import re"
   ]
  },
  {
   "cell_type": "code",
   "execution_count": null,
   "id": "81e6d1d7",
   "metadata": {
    "scrolled": true
   },
   "outputs": [],
   "source": [
    "from selenium.webdriver.support.ui import WebDriverWait\n",
    "from selenium.webdriver.common.by import By\n",
    "from selenium.webdriver.chrome.service import Service\n",
    "from selenium.webdriver.common.keys import Keys\n",
    "from bs4 import BeautifulSoup  # Make sure to import BeautifulSoup\n",
    "\n",
    "# Set up the Selenium web driver (provide the path to your ChromeDriver)\n",
    "driver_path = r'masukin path'\n",
    "service = Service(driver_path)\n",
    "driver = webdriver.Chrome(service=service)\n",
    "\n",
    "Data = []\n",
    "i = 1\n",
    "\n",
    "for page in range(1):\n",
    "    # URL of the news website you want to scrape\n",
    "    url = \"https://www.tribunnews.com/search?q=Pencemaran+Kalimantan+Timur+&cx=partner-pub-7486139053367666%3A4965051114&cof=FORID%3A10&ie=UTF-8&siteurl=www.tribunnews.com#gsc.tab=0&gsc.q=Pencemaran%20Kalimantan%20Timur%20&gsc.page=\" + str(page)\n",
    "\n",
    "    # Send an HTTP GET request to the website using Selenium\n",
    "    driver.get(url)\n",
    "\n",
    "    # Wait for a few seconds to let the page load (you can increase this if needed)\n",
    "    time.sleep(5)\n",
    "\n",
    "    # Now you can access the fully loaded HTML content\n",
    "    page_source = driver.page_source\n",
    "\n",
    "    # Parse the web page content using BeautifulSoup\n",
    "    soup = BeautifulSoup(page_source, \"html.parser\")\n",
    "\n",
    "    # Find and extract news headlines and their URLs\n",
    "    beritas = soup.find_all('div', class_='gsc-webResult gsc-result')\n",
    "\n",
    "    for berita in beritas :\n",
    "        judulBeritaElement = berita.find('div', class_='gs-title')\n",
    "        if judulBeritaElement:\n",
    "            judulBerita = judulBeritaElement.text.strip()\n",
    "            #print(judulBerita)\n",
    "                \n",
    "        dataBeritaElement = berita.find('div', class_='gsc-table-cell-snippet-close')\n",
    "        if dataBeritaElement:\n",
    "            dataBerita = dataBeritaElement.text.strip()\n",
    "            #Define a regular expression pattern to match the date\n",
    "            date_pattern = r'(\\w+ \\d{1,2}, \\d{4})'\n",
    "\n",
    "            #Use re.search to find the date in the 'Data' field\n",
    "            date_match = re.search(date_pattern, dataBerita)\n",
    "\n",
    "            if date_match:\n",
    "                date = date_match.group(0)\n",
    "            \n",
    "        link = berita.find('a')['href']\n",
    "        \n",
    "        if '...' in judulBerita:\n",
    "            try:\n",
    "                driver.get(link)\n",
    "                time.sleep(3)\n",
    "                page_source = driver.page_source\n",
    "                soup = BeautifulSoup(page_source, \"html.parser\")\n",
    "                judul = soup.find('h1', class_='f50 black2 f400 crimson')\n",
    "                \n",
    "                judulBerita = judul.text.strip()\n",
    "            except Exception as e:\n",
    "                print(\"Gagal mendapatkan judul:\", e)\n",
    "               \n",
    "            for isi in isiBeritas :\n",
    "                    konten = soup.find('div', class_='side-article txt-article multi-fontsize editcontent')\n",
    "                    kontenBerita = konten.text.strip()\n",
    "                \n",
    "        \n",
    "        Data.append({'Nomor': i, 'Judul': judulBerita, 'Tanggal': dataBerita, 'Link': link})\n",
    "            #'Link': link\n",
    "#         , 'tanggal dan sumber': tanggalBerita, 'Isi Singkat': kontenBerita\n",
    "        i+=1\n",
    "        print(Data[-1])\n",
    "\n",
    "    \n",
    "\n",
    "\n"
   ]
  },
  {
   "cell_type": "code",
   "execution_count": null,
   "id": "2e54fc2a",
   "metadata": {},
   "outputs": [],
   "source": []
  }
 ],
 "metadata": {
  "kernelspec": {
   "display_name": "Python 3 (ipykernel)",
   "language": "python",
   "name": "python3"
  },
  "language_info": {
   "codemirror_mode": {
    "name": "ipython",
    "version": 3
   },
   "file_extension": ".py",
   "mimetype": "text/x-python",
   "name": "python",
   "nbconvert_exporter": "python",
   "pygments_lexer": "ipython3",
   "version": "3.11.5"
  }
 },
 "nbformat": 4,
 "nbformat_minor": 5
}
