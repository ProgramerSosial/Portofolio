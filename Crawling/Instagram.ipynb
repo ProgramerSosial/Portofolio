{
 "cells": [
  {
   "cell_type": "code",
   "execution_count": null,
   "id": "d1fe24e9-0915-496f-b739-dc8d65f697f9",
   "metadata": {},
   "outputs": [],
   "source": [
    "from bs4 import BeautifulSoup\n",
    "import requests\n",
    "from selenium import webdriver\n",
    "from selenium.webdriver.common.by import By\n",
    "from selenium.webdriver.common.keys import Keys\n",
    "import time\n",
    "import json\n",
    "from getpass import getpass"
   ]
  },
  {
   "cell_type": "code",
   "execution_count": null,
   "id": "338a5d58-3a48-4f39-9c19-a55c3c44172a",
   "metadata": {},
   "outputs": [],
   "source": [
    "from selenium import webdriver\n",
    "from selenium.webdriver.common.keys import Keys\n",
    "from selenium.webdriver.support import expected_conditions as EC\n",
    "from selenium.webdriver.common.by import By\n",
    "from selenium.webdriver.support.wait import WebDriverWait\n",
    "from selenium.webdriver.chrome.service import Service\n",
    "import time\n",
    "import re"
   ]
  },
  {
   "cell_type": "code",
   "execution_count": null,
   "id": "8e81a7b6-9cb5-4781-9803-08473f6688a9",
   "metadata": {},
   "outputs": [],
   "source": [
    "from selenium import webdriver\n",
    "from webdriver_manager.chrome import ChromeDriverManager\n",
    "\n",
    "driver = webdriver.Chrome(ChromeDriverManager().install())\n",
    "driver.get(\"https://www.instagram.com\")"
   ]
  },
  {
   "cell_type": "code",
   "execution_count": null,
   "id": "f81d2dd1-50c2-4349-931f-26eb96098e13",
   "metadata": {},
   "outputs": [],
   "source": [
    "username = WebDriverWait(driver, 10).until(EC.element_to_be_clickable((By.CSS_SELECTOR, \"input[name='username']\")))\n",
    "password = WebDriverWait(driver, 10).until(EC.element_to_be_clickable((By.CSS_SELECTOR, \"input[name='password']\")))\n",
    "\n",
    "#enter username and password\n",
    "username.clear()\n",
    "username.send_keys(\"\")\n",
    "password.clear()\n",
    "password.send_keys(\"\")\n",
    "\n",
    "button = WebDriverWait(driver, 10).until(EC.element_to_be_clickable((By.CSS_SELECTOR, \"button[type='submit']\"))).click()"
   ]
  },
  {
   "cell_type": "code",
   "execution_count": null,
   "id": "3976a847-d945-41c3-b3cc-2cb8c3eb004d",
   "metadata": {},
   "outputs": [],
   "source": [
    "keyword = \"\"\n",
    "driver.get(\"https://www.instagram.com/\" + keyword + \"/\")\n",
    "\n",
    "time.sleep(2)"
   ]
  },
  {
   "cell_type": "markdown",
   "id": "59c6bf3b-56ad-4cfa-a9cd-ec3521b96fe4",
   "metadata": {},
   "source": [
    "## AMBIL SEMUA LINK"
   ]
  },
  {
   "cell_type": "code",
   "execution_count": null,
   "id": "d487d481-0815-4804-8fa1-33338b5e0076",
   "metadata": {},
   "outputs": [],
   "source": [
    "unique_links = set()\n",
    "w=0\n",
    "# Scroll until the bottom of the page\n",
    "while True:\n",
    "    # Get the current height of the page\n",
    "    before_scroll_height = driver.execute_script(\"return document.body.scrollHeight\")\n",
    "    \n",
    "    anchor_selector = '.x1i10hfl.xjbqb8w.x1ejq31n.xd10rxx.x1sy0etr.x17r0tee.x972fbf.xcfux6l.x1qhh985.xm0m39n.x9f619.x1ypdohk.xt0psk2.xe8uvvx.xdj266r.x11i5rnm.xat24cr.x1mh8g0r.xexx8yu.x4uap5.x18d9i69.xkhd6sd.x16tdsg8.x1hl2dhg.xggy1nq.x1a2a7pz._a6hd'\n",
    "\n",
    "    # Find all anchor elements using the CSS selector\n",
    "    anchor_elements = driver.find_elements(By.CSS_SELECTOR, anchor_selector)\n",
    "\n",
    "\n",
    "    # Filter and print only the links starting with \"https://www.instagram.com/p/\"\n",
    "    for anchor_element in anchor_elements:\n",
    "        href_attribute = anchor_element.get_attribute('href')\n",
    "        if href_attribute.startswith(\"https://www.instagram.com/p/\"):\n",
    "            w=w+1\n",
    "            unique_links.add(href_attribute)\n",
    "\n",
    "\n",
    "    # Scroll down\n",
    "    driver.find_element(By.TAG_NAME, 'body').send_keys(Keys.END)\n",
    "    time.sleep(5)\n",
    "\n",
    "    # Wait for a short interval to let the content load\n",
    "    driver.implicitly_wait(2)  # You can adjust the wait time based on your needs\n",
    "\n",
    "    # Get the new height of the page after scrolling\n",
    "    after_scroll_height = driver.execute_script(\"return document.body.scrollHeight\")\n",
    "\n",
    "    # Check if we have reached the bottom of the page\n",
    "    if after_scroll_height == before_scroll_height:\n",
    "        break\n",
    "\n",
    "print(w)\n",
    "# Convert the set to a list if needed\n",
    "unique_links_list = list(unique_links)\n",
    "\n",
    "# Print the unique links\n",
    "for link in unique_links_list:\n",
    "    print(link)"
   ]
  },
  {
   "cell_type": "markdown",
   "id": "046118bf-e7d8-4d41-a745-c76c913497c2",
   "metadata": {},
   "source": [
    "## AMBIL PER POST"
   ]
  },
  {
   "cell_type": "code",
   "execution_count": null,
   "id": "8249322d-db37-42a1-bbf0-504a3b5329b4",
   "metadata": {},
   "outputs": [],
   "source": [
    "# Fungsi untuk melakukan scroll sebanyak n kali\n",
    "def scroll_to_bottom(n):\n",
    "    # Temukan elemen HTML <body>\n",
    "    body = driver.find_element(By.TAG_NAME, 'body')\n",
    "\n",
    "    # Gunakan JavaScript untuk melakukan scroll ke bagian bawah halaman n kali\n",
    "    for _ in range(n):\n",
    "        body.send_keys(Keys.END)\n",
    "        time.sleep(5)  # Tunggu sejenak untuk membiarkan halaman memuat konten baru\n",
    "\n",
    "# Lakukan scroll sebanyak 100 kali\n",
    "scroll_to_bottom(100)"
   ]
  },
  {
   "cell_type": "code",
   "execution_count": null,
   "id": "8a4901fe-bbda-4c4c-9045-4073b0e83d27",
   "metadata": {},
   "outputs": [],
   "source": [
    "# XPath expression to select <div> elements with specific classes\n",
    "xpath_expression = \"//div[contains(@class, 'x9f619') and contains(@class, 'xjbqb8w') and contains(@class, 'x78zum5') and contains(@class, 'x168nmei') and contains(@class, 'x13lgxp2') and contains(@class, 'x5pf9jr') and contains(@class, 'xo71vjh') and contains(@class, 'xsag5q8') and contains(@class, 'xz9dl7a') and contains(@class, 'x1uhb9sk') and contains(@class, 'x1plvlek') and contains(@class, 'xryxfnj') and contains(@class, 'x1c4vz4f') and contains(@class, 'x2lah0s') and contains(@class, 'x1q0g3np') and contains(@class, 'xqjyukv') and contains(@class, 'x1qjc9v5') and contains(@class, 'x1oa3qoh') and contains(@class, 'x1nhvcw1')]\"\n",
    "target_divs = driver.find_elements(By.XPATH, xpath_expression)\n",
    "\n",
    "# Filter and extract information\n",
    "result_list = []\n",
    "for index, target_div in enumerate(target_divs):\n",
    "    text_content = target_div.text\n",
    "    lines = text_content.split('\\n')\n",
    "\n",
    "    # Ensure that the structure is as expected\n",
    "    if len(lines) >= 3:\n",
    "        username = lines[0].strip()\n",
    "        date = lines[1].strip()\n",
    "        comment = lines[2].strip()\n",
    "\n",
    "        # Store the information in a dictionary\n",
    "        element_info = {\n",
    "            \"index\": index,\n",
    "            \"username\": username,\n",
    "            \"date\": date,\n",
    "            \"comment\": comment\n",
    "        }\n",
    "\n",
    "        # Add the dictionary to the result list\n",
    "        result_list.append(element_info)\n",
    "\n",
    "        # Print information for demonstration purposes\n",
    "        print(f\"Element {index}:\")\n",
    "        print(f\"Username: {username}\")\n",
    "        print(f\"Date: {date}\")\n",
    "        print(f\"Comment: {comment}\")\n",
    "        print(\"-----\")\n",
    "    else:\n",
    "        print(f\"Element {index}: Unexpected structure. Skipping element.\")"
   ]
  },
  {
   "cell_type": "code",
   "execution_count": null,
   "id": "b70657e1-8940-4732-8695-ad46bb573822",
   "metadata": {},
   "outputs": [],
   "source": []
  }
 ],
 "metadata": {
  "kernelspec": {
   "display_name": "Python 3 (ipykernel)",
   "language": "python",
   "name": "python3"
  },
  "language_info": {
   "codemirror_mode": {
    "name": "ipython",
    "version": 3
   },
   "file_extension": ".py",
   "mimetype": "text/x-python",
   "name": "python",
   "nbconvert_exporter": "python",
   "pygments_lexer": "ipython3",
   "version": "3.11.5"
  }
 },
 "nbformat": 4,
 "nbformat_minor": 5
}
