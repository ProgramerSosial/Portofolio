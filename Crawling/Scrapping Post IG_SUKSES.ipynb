{
 "cells": [
  {
   "cell_type": "code",
   "execution_count": 4,
   "id": "5a374572",
   "metadata": {},
   "outputs": [
    {
     "name": "stdout",
     "output_type": "stream",
     "text": [
      "Requirement already satisfied: selenium in c:\\python311\\lib\\site-packages (4.15.2)\n",
      "Requirement already satisfied: urllib3<3,>=1.26 in c:\\python311\\lib\\site-packages (from urllib3[socks]<3,>=1.26->selenium) (2.1.0)\n",
      "Requirement already satisfied: trio~=0.17 in c:\\python311\\lib\\site-packages (from selenium) (0.23.1)\n",
      "Requirement already satisfied: trio-websocket~=0.9 in c:\\python311\\lib\\site-packages (from selenium) (0.11.1)\n",
      "Requirement already satisfied: certifi>=2021.10.8 in c:\\python311\\lib\\site-packages (from selenium) (2023.11.17)\n",
      "Requirement already satisfied: attrs>=20.1.0 in c:\\python311\\lib\\site-packages (from trio~=0.17->selenium) (23.1.0)\n",
      "Requirement already satisfied: sortedcontainers in c:\\python311\\lib\\site-packages (from trio~=0.17->selenium) (2.4.0)\n",
      "Requirement already satisfied: idna in c:\\python311\\lib\\site-packages (from trio~=0.17->selenium) (3.4)\n",
      "Requirement already satisfied: outcome in c:\\python311\\lib\\site-packages (from trio~=0.17->selenium) (1.3.0.post0)\n",
      "Requirement already satisfied: sniffio>=1.3.0 in c:\\python311\\lib\\site-packages (from trio~=0.17->selenium) (1.3.0)\n",
      "Requirement already satisfied: cffi>=1.14 in c:\\python311\\lib\\site-packages (from trio~=0.17->selenium) (1.16.0)\n",
      "Requirement already satisfied: wsproto>=0.14 in c:\\python311\\lib\\site-packages (from trio-websocket~=0.9->selenium) (1.2.0)\n",
      "Requirement already satisfied: pysocks!=1.5.7,<2.0,>=1.5.6 in c:\\python311\\lib\\site-packages (from urllib3[socks]<3,>=1.26->selenium) (1.7.1)\n",
      "Requirement already satisfied: pycparser in c:\\python311\\lib\\site-packages (from cffi>=1.14->trio~=0.17->selenium) (2.21)\n",
      "Requirement already satisfied: h11<1,>=0.9.0 in c:\\python311\\lib\\site-packages (from wsproto>=0.14->trio-websocket~=0.9->selenium) (0.14.0)\n"
     ]
    },
    {
     "name": "stderr",
     "output_type": "stream",
     "text": [
      "DEPRECATION: Loading egg at c:\\python311\\lib\\site-packages\\vboxapi-1.0-py3.11.egg is deprecated. pip 24.3 will enforce this behaviour change. A possible replacement is to use pip for package installation.. Discussion can be found at https://github.com/pypa/pip/issues/12330\n"
     ]
    },
    {
     "name": "stdout",
     "output_type": "stream",
     "text": [
      "Requirement already satisfied: pandas in c:\\python311\\lib\\site-packages (2.1.3)\n",
      "Requirement already satisfied: numpy<2,>=1.23.2 in c:\\python311\\lib\\site-packages (from pandas) (1.26.2)\n",
      "Requirement already satisfied: python-dateutil>=2.8.2 in c:\\python311\\lib\\site-packages (from pandas) (2.8.2)\n",
      "Requirement already satisfied: pytz>=2020.1 in c:\\python311\\lib\\site-packages (from pandas) (2023.3.post1)\n",
      "Requirement already satisfied: tzdata>=2022.1 in c:\\python311\\lib\\site-packages (from pandas) (2023.3)\n",
      "Requirement already satisfied: six>=1.5 in c:\\python311\\lib\\site-packages (from python-dateutil>=2.8.2->pandas) (1.16.0)\n"
     ]
    },
    {
     "name": "stderr",
     "output_type": "stream",
     "text": [
      "DEPRECATION: Loading egg at c:\\python311\\lib\\site-packages\\vboxapi-1.0-py3.11.egg is deprecated. pip 24.3 will enforce this behaviour change. A possible replacement is to use pip for package installation.. Discussion can be found at https://github.com/pypa/pip/issues/12330\n"
     ]
    },
    {
     "name": "stdout",
     "output_type": "stream",
     "text": [
      "Requirement already satisfied: chromedriver-autoinstaller in c:\\python311\\lib\\site-packages (0.6.2)\n"
     ]
    },
    {
     "name": "stderr",
     "output_type": "stream",
     "text": [
      "DEPRECATION: Loading egg at c:\\python311\\lib\\site-packages\\vboxapi-1.0-py3.11.egg is deprecated. pip 24.3 will enforce this behaviour change. A possible replacement is to use pip for package installation.. Discussion can be found at https://github.com/pypa/pip/issues/12330\n"
     ]
    },
    {
     "name": "stdout",
     "output_type": "stream",
     "text": [
      "Requirement already satisfied: BeautifulSoup4 in c:\\python311\\lib\\site-packages (4.12.2)\n",
      "Requirement already satisfied: soupsieve>1.2 in c:\\python311\\lib\\site-packages (from BeautifulSoup4) (2.5)\n"
     ]
    },
    {
     "name": "stderr",
     "output_type": "stream",
     "text": [
      "DEPRECATION: Loading egg at c:\\python311\\lib\\site-packages\\vboxapi-1.0-py3.11.egg is deprecated. pip 24.3 will enforce this behaviour change. A possible replacement is to use pip for package installation.. Discussion can be found at https://github.com/pypa/pip/issues/12330\n"
     ]
    },
    {
     "name": "stdout",
     "output_type": "stream",
     "text": [
      "Requirement already satisfied: selenium in c:\\python311\\lib\\site-packages (4.15.2)\n",
      "Requirement already satisfied: urllib3<3,>=1.26 in c:\\python311\\lib\\site-packages (from urllib3[socks]<3,>=1.26->selenium) (2.1.0)\n",
      "Requirement already satisfied: trio~=0.17 in c:\\python311\\lib\\site-packages (from selenium) (0.23.1)\n",
      "Requirement already satisfied: trio-websocket~=0.9 in c:\\python311\\lib\\site-packages (from selenium) (0.11.1)\n",
      "Requirement already satisfied: certifi>=2021.10.8 in c:\\python311\\lib\\site-packages (from selenium) (2023.11.17)\n",
      "Requirement already satisfied: attrs>=20.1.0 in c:\\python311\\lib\\site-packages (from trio~=0.17->selenium) (23.1.0)\n",
      "Requirement already satisfied: sortedcontainers in c:\\python311\\lib\\site-packages (from trio~=0.17->selenium) (2.4.0)\n",
      "Requirement already satisfied: idna in c:\\python311\\lib\\site-packages (from trio~=0.17->selenium) (3.4)\n",
      "Requirement already satisfied: outcome in c:\\python311\\lib\\site-packages (from trio~=0.17->selenium) (1.3.0.post0)\n",
      "Requirement already satisfied: sniffio>=1.3.0 in c:\\python311\\lib\\site-packages (from trio~=0.17->selenium) (1.3.0)\n",
      "Requirement already satisfied: cffi>=1.14 in c:\\python311\\lib\\site-packages (from trio~=0.17->selenium) (1.16.0)\n",
      "Requirement already satisfied: wsproto>=0.14 in c:\\python311\\lib\\site-packages (from trio-websocket~=0.9->selenium) (1.2.0)\n",
      "Requirement already satisfied: pysocks!=1.5.7,<2.0,>=1.5.6 in c:\\python311\\lib\\site-packages (from urllib3[socks]<3,>=1.26->selenium) (1.7.1)\n",
      "Requirement already satisfied: pycparser in c:\\python311\\lib\\site-packages (from cffi>=1.14->trio~=0.17->selenium) (2.21)\n",
      "Requirement already satisfied: h11<1,>=0.9.0 in c:\\python311\\lib\\site-packages (from wsproto>=0.14->trio-websocket~=0.9->selenium) (0.14.0)\n"
     ]
    },
    {
     "name": "stderr",
     "output_type": "stream",
     "text": [
      "DEPRECATION: Loading egg at c:\\python311\\lib\\site-packages\\vboxapi-1.0-py3.11.egg is deprecated. pip 24.3 will enforce this behaviour change. A possible replacement is to use pip for package installation.. Discussion can be found at https://github.com/pypa/pip/issues/12330\n"
     ]
    }
   ],
   "source": [
    "!pip install selenium\n",
    "!pip install pandas\n",
    "!pip install chromedriver-autoinstaller\n",
    "!pip install BeautifulSoup4\n",
    "!pip install --upgrade selenium"
   ]
  },
  {
   "cell_type": "code",
   "execution_count": 5,
   "id": "7a010219",
   "metadata": {},
   "outputs": [],
   "source": [
    "from bs4 import BeautifulSoup\n",
    "import requests\n",
    "from selenium import webdriver\n",
    "from selenium.webdriver.common.by import By\n",
    "from selenium.webdriver.common.keys import Keys\n",
    "import time\n",
    "import json\n",
    "from getpass import getpass"
   ]
  },
  {
   "cell_type": "code",
   "execution_count": 6,
   "id": "0c45276f",
   "metadata": {},
   "outputs": [],
   "source": [
    "from selenium import webdriver\n",
    "from selenium.webdriver.common.keys import Keys\n",
    "from selenium.webdriver.support import expected_conditions as EC\n",
    "from selenium.webdriver.common.by import By\n",
    "from selenium.webdriver.support.wait import WebDriverWait\n",
    "from selenium.webdriver.chrome.service import Service\n",
    "import time\n",
    "import re"
   ]
  },
  {
   "cell_type": "code",
   "execution_count": 7,
   "id": "c0c0deb1",
   "metadata": {},
   "outputs": [],
   "source": [
    "driver_path = r'C:\\Users\\rawicak\\Downloads\\chromedriver-win64\\chromedriver.exe'\n",
    "service = Service(driver_path)\n",
    "driver = webdriver.Chrome(service=service)\n",
    "ig = 'https://www.instagram.com'\n",
    "driver.get(ig)\n",
    "\n",
    "username = WebDriverWait(driver, 10).until(EC.element_to_be_clickable((By.CSS_SELECTOR, \"input[name='username']\")))\n",
    "password = WebDriverWait(driver, 10).until(EC.element_to_be_clickable((By.CSS_SELECTOR, \"input[name='password']\")))\n",
    "\n",
    "#enter username and password\n",
    "username.clear()\n",
    "username.send_keys(\"kupakadventure\")\n",
    "password.clear()\n",
    "password.send_keys(\"seprian123\")\n",
    "\n",
    "#target the login button and click it\n",
    "button = WebDriverWait(driver, 10).until(EC.element_to_be_clickable((By.CSS_SELECTOR, \"button[type='submit']\"))).click()\n",
    "time.sleep(5)\n",
    "alert = WebDriverWait(driver, 15).until(EC.element_to_be_clickable((By.XPATH, '//button[contains(text(), \"Save Info\")]'))).click()\n",
    "alert1 = WebDriverWait(driver, 15).until(EC.element_to_be_clickable((By.XPATH, '//button[contains(text(), \"Turn On\")]'))).click()"
   ]
  },
  {
   "cell_type": "code",
   "execution_count": 14,
   "id": "ae64807e",
   "metadata": {},
   "outputs": [],
   "source": [
    "keyword = \"divaraandhaaru\"\n",
    "driver.get(\"https://www.instagram.com/\" + keyword + \"/\")\n",
    "\n",
    "time.sleep(2)\n",
    "\n",
    "# n_scrolls = 10\n",
    "# for i in range(1, n_scrolls):\n",
    "#     driver.execute_script(\"window.scrollTo(0, document.body.scrollHeight);\")\n",
    "#     time.sleep(5)"
   ]
  },
  {
   "cell_type": "code",
   "execution_count": 15,
   "id": "48d3284c",
   "metadata": {},
   "outputs": [
    {
     "name": "stdout",
     "output_type": "stream",
     "text": [
      "10\n"
     ]
    }
   ],
   "source": [
    "# jika ingin scrape data sebanyak jumlah postingannya\n",
    "num_posts = (driver.find_element(By.CSS_SELECTOR, '._ac2a')).text\n",
    "num_posts = num_posts.replace(\",\",\"\")\n",
    "num_posts = int(num_posts)\n",
    "print(num_posts)"
   ]
  },
  {
   "cell_type": "code",
   "execution_count": 16,
   "id": "25dbcece",
   "metadata": {},
   "outputs": [
    {
     "name": "stdout",
     "output_type": "stream",
     "text": [
      "10\n",
      "https://www.instagram.com/p/Cv08b1BvUHD/\n",
      "https://www.instagram.com/p/Cf2rIhQvpsh/\n",
      "https://www.instagram.com/p/B94DW-SneC4/\n",
      "https://www.instagram.com/p/CaluvnKvDgL/\n",
      "https://www.instagram.com/p/CnWgAbQySFj/\n",
      "https://www.instagram.com/p/CuYPVqDS6kO/\n",
      "https://www.instagram.com/p/COPjFloH2aE/\n",
      "https://www.instagram.com/p/CwjU14QyJrR/\n",
      "https://www.instagram.com/p/B3RzbhnJeLC/\n",
      "https://www.instagram.com/p/B1aYfO7pwq7/\n"
     ]
    }
   ],
   "source": [
    "unique_links = set()\n",
    "w=0\n",
    "# Scroll until the bottom of the page\n",
    "while True:\n",
    "    # Get the current height of the page\n",
    "    before_scroll_height = driver.execute_script(\"return document.body.scrollHeight\")\n",
    "    \n",
    "    anchor_selector = 'a.x1i10hfl.xjbqb8w.x6umtig.x1b1mbwd.xaqea5y.xav7gou.x9f619.x1ypdohk.xt0psk2.xe8uvvx.xdj266r.x11i5rnm.xat24cr.x1mh8g0r.xexx8yu.x4uap5.x18d9i69.xkhd6sd.x16tdsg8.x1hl2dhg.xggy1nq.x1a2a7pz._a6hd'\n",
    "\n",
    "    # Find all anchor elements using the CSS selector\n",
    "    anchor_elements = driver.find_elements(By.CSS_SELECTOR, anchor_selector)\n",
    "\n",
    "\n",
    "    # Filter and print only the links starting with \"https://www.instagram.com/p/\"\n",
    "    for anchor_element in anchor_elements:\n",
    "        href_attribute = anchor_element.get_attribute('href')\n",
    "        if href_attribute.startswith(\"https://www.instagram.com/p/\"):\n",
    "            w=w+1\n",
    "            unique_links.add(href_attribute)\n",
    "\n",
    "\n",
    "    # Scroll down\n",
    "    driver.find_element(By.TAG_NAME, 'body').send_keys(Keys.END)\n",
    "    time.sleep(5)\n",
    "\n",
    "    # Wait for a short interval to let the content load\n",
    "    driver.implicitly_wait(2)  # You can adjust the wait time based on your needs\n",
    "\n",
    "    # Get the new height of the page after scrolling\n",
    "    after_scroll_height = driver.execute_script(\"return document.body.scrollHeight\")\n",
    "\n",
    "    # Check if we have reached the bottom of the page\n",
    "    if after_scroll_height == before_scroll_height:\n",
    "        break\n",
    "\n",
    "print(w)\n",
    "# Convert the set to a list if needed\n",
    "unique_links_list = list(unique_links)\n",
    "\n",
    "# Print the unique links\n",
    "for link in unique_links_list:\n",
    "    print(link)\n"
   ]
  },
  {
   "cell_type": "code",
   "execution_count": 30,
   "id": "23851b9a",
   "metadata": {},
   "outputs": [
    {
     "name": "stdout",
     "output_type": "stream",
     "text": [
      "Button clicked successfully!\n",
      "Process completed for the link: https://www.instagram.com/p/Cv08b1BvUHD/\n",
      "Button clicked successfully!\n",
      "Process completed for the link: https://www.instagram.com/p/Cf2rIhQvpsh/\n",
      "Button clicked successfully!\n",
      "Process completed for the link: https://www.instagram.com/p/B94DW-SneC4/\n",
      "Button clicked successfully!\n",
      "Process completed for the link: https://www.instagram.com/p/CaluvnKvDgL/\n",
      "Button clicked successfully!\n",
      "Process completed for the link: https://www.instagram.com/p/CnWgAbQySFj/\n",
      "Button clicked successfully!\n",
      "Process completed for the link: https://www.instagram.com/p/CuYPVqDS6kO/\n",
      "Button not found on the page.\n",
      "Process completed for the link: https://www.instagram.com/p/COPjFloH2aE/\n",
      "Button clicked successfully!\n",
      "Process completed for the link: https://www.instagram.com/p/CwjU14QyJrR/\n",
      "Button clicked successfully!\n",
      "Process completed for the link: https://www.instagram.com/p/B3RzbhnJeLC/\n",
      "Button not found on the page.\n",
      "Process completed for the link: https://www.instagram.com/p/B1aYfO7pwq7/\n"
     ]
    }
   ],
   "source": [
    "from selenium.common.exceptions import NoSuchElementException\n",
    "\n",
    "for link in unique_links_list:\n",
    "    driver.get(link)\n",
    "    time.sleep(2)\n",
    "    try:\n",
    "        # Concatenate all the classes with dots to form a valid CSS selector\n",
    "        button_classes = '.x1lliihq.x1n2onr6.xyb1xck'\n",
    "        \n",
    "        # Locate the button using its class names\n",
    "        like_button = driver.find_element(By.CSS_SELECTOR, button_classes)\n",
    "        \n",
    "        # Click the button\n",
    "        like_button.click()\n",
    "        print('Button clicked successfully!')\n",
    "    except NoSuchElementException:\n",
    "        print('Button not found on the page.')\n",
    "    finally: \n",
    "        print('Process completed for the link:', link)\n"
   ]
  },
  {
   "cell_type": "code",
   "execution_count": 43,
   "id": "e9d099a2-82eb-4ff6-8297-1c163af0e4ae",
   "metadata": {},
   "outputs": [
    {
     "name": "stdout",
     "output_type": "stream",
     "text": [
      "Data parse successfully\n",
      "Process completed for the link: https://www.instagram.com/p/Cv08b1BvUHD/\n",
      "Data parse successfully\n",
      "Process completed for the link: https://www.instagram.com/p/Cf2rIhQvpsh/\n",
      "Data parse successfully\n",
      "Process completed for the link: https://www.instagram.com/p/B94DW-SneC4/\n",
      "Data parse successfully\n",
      "Process completed for the link: https://www.instagram.com/p/CaluvnKvDgL/\n",
      "Data parse successfully\n",
      "Process completed for the link: https://www.instagram.com/p/CnWgAbQySFj/\n",
      "Data parse successfully\n",
      "Process completed for the link: https://www.instagram.com/p/CuYPVqDS6kO/\n",
      "Data parse successfully\n",
      "Process completed for the link: https://www.instagram.com/p/COPjFloH2aE/\n",
      "Data parse successfully\n",
      "Process completed for the link: https://www.instagram.com/p/CwjU14QyJrR/\n",
      "Data parse successfully\n",
      "Process completed for the link: https://www.instagram.com/p/B3RzbhnJeLC/\n",
      "Data parse successfully\n",
      "Process completed for the link: https://www.instagram.com/p/B1aYfO7pwq7/\n",
      "[[{'text': 'back out in the world', 'type': 'caption'}, {'text': 'divaraandhaaru\\xa014wback out in the world', 'type': 'comment'}, {'text': 'ndhraksm', 'type': 'comment'}, {'text': 'keren kak🔥', 'type': 'comment'}, {'text': 'aaksata', 'type': 'comment'}, {'text': 'aehhhh', 'type': 'comment'}, {'text': 'yohanesyudhistira', 'type': 'comment'}, {'text': '@ya.kobus', 'type': 'comment'}, {'text': '177 likes', 'type': 'comment'}], [{'text': 'rinjani seindah dan secantik itu', 'type': 'caption'}, {'text': 'divaraandhaaru\\xa071wrinjani seindah dan secantik itu', 'type': 'comment'}, {'text': 'hanifmahrd', 'type': 'comment'}, {'text': 'kelas bgt loh', 'type': 'comment'}, {'text': 'arkhanaufal', 'type': 'comment'}, {'text': 'nyampe juga ke puncak rinjani si blek satu ini', 'type': 'comment'}, {'text': 'aaksata', 'type': 'comment'}, {'text': 'asikss akhirnya sampe juga dia', 'type': 'comment'}, {'text': 'yohanesyudhistira', 'type': 'comment'}, {'text': 'kasino @ya.kobus', 'type': 'comment'}, {'text': 'opupangeran', 'type': 'comment'}, {'text': 'top', 'type': 'comment'}, {'text': 'lu.mirka', 'type': 'comment'}, {'text': 'Kelaaaasssss🔥', 'type': 'comment'}, {'text': 'jenifer_hudson9', 'type': 'comment'}, {'text': 'Top idolaaa 😅😎', 'type': 'comment'}, {'text': '244 likes', 'type': 'comment'}], [{'text': 'kelar kan akhirnya.', 'type': 'caption'}, {'text': 'divaraandhaaru\\xa0192wkelar kan akhirnya.', 'type': 'comment'}, {'text': 'sausankh', 'type': 'comment'}, {'text': 'pait si gadateng', 'type': 'comment'}, {'text': 'dirgantaraadhen', 'type': 'comment'}, {'text': 'GA ngajak :(', 'type': 'comment'}, {'text': 'rayyazacr', 'type': 'comment'}, {'text': 'lu mah enak blek', 'type': 'comment'}, {'text': 'septiannaufal01', 'type': 'comment'}, {'text': '🔥👌👏👍🔥', 'type': 'comment'}, {'text': 'satriarkhanta', 'type': 'comment'}, {'text': 'sedep bat kek indomie', 'type': 'comment'}, {'text': 'kevinhaalim', 'type': 'comment'}, {'text': 'misi bang', 'type': 'comment'}, {'text': 'ivanpryu', 'type': 'comment'}, {'text': 'bener kata org lawu banyak penampakannya', 'type': 'comment'}, {'text': 'rijojing', 'type': 'comment'}, {'text': '😍😍😍', 'type': 'comment'}, {'text': 'azrakbr', 'type': 'comment'}, {'text': 'kok zenly lu ada di china si', 'type': 'comment'}, {'text': 'rizkirmdhanhm', 'type': 'comment'}, {'text': 'ngeri si nak gunung🤤', 'type': 'comment'}, {'text': 'rfqisntoso', 'type': 'comment'}, {'text': 'ganteng deh', 'type': 'comment'}, {'text': 'dzakyprdnaa', 'type': 'comment'}, {'text': 'Tumben ngepost ga ada orang nya', 'type': 'comment'}, {'text': 'rerelandana', 'type': 'comment'}, {'text': 'aLaAahHhH', 'type': 'comment'}, {'text': 'nadiaafitriana', 'type': 'comment'}, {'text': 'harusnya malem ini ngepost foto lg belajar bersama ortu dirumah', 'type': 'comment'}, {'text': 'helloitsmeivel', 'type': 'comment'}, {'text': 'senyum ape blek', 'type': 'comment'}, {'text': '355 likes', 'type': 'comment'}], [{'text': 'healinglah masa kaga', 'type': 'caption'}, {'text': 'divaraandhaaru\\xa090whealinglah masa kaga', 'type': 'comment'}, {'text': 'ariiqsa', 'type': 'comment'}, {'text': 'jatohlah masa kagaa', 'type': 'comment'}, {'text': 'lu.mirka', 'type': 'comment'}, {'text': 'Healing tai lu healing', 'type': 'comment'}, {'text': 'najipskuy', 'type': 'comment'}, {'text': 'hadeuh ini yg bikin mpkt terbengkalai', 'type': 'comment'}, {'text': 'nadhifa.larasati', 'type': 'comment'}, {'text': 'iddiii', 'type': 'comment'}, {'text': 'jenifer_hudson9', 'type': 'comment'}, {'text': 'Gede pride😂👏', 'type': 'comment'}, {'text': '280 likes', 'type': 'comment'}], [{'text': 'alhamdulillah kali ini ga nyasar', 'type': 'caption'}, {'text': 'divaraandhaaru\\xa044walhamdulillah kali ini ga nyasar', 'type': 'comment'}, {'text': 'febdp', 'type': 'comment'}, {'text': 'blek', 'type': 'comment'}, {'text': 'yohanesyudhistira', 'type': 'comment'}, {'text': 'i cool', 'type': 'comment'}, {'text': 'seprian_najib', 'type': 'comment'}, {'text': 'Dukun samaranthu', 'type': 'comment'}, {'text': 'ya.kobus', 'type': 'comment'}, {'text': 'cool🔥', 'type': 'comment'}, {'text': 'lu.mirka', 'type': 'comment'}, {'text': 'Iya', 'type': 'comment'}, {'text': '189 likes', 'type': 'comment'}], [{'text': 'sebuah kehormatan bisa bawa nama ui di dada', 'type': 'caption'}, {'text': 'divaraandhaaru\\xa019wsebuah kehormatan bisa bawa nama ui di dada', 'type': 'comment'}, {'text': 'faaaaaaadhil', 'type': 'comment'}, {'text': 'manis banget senyumnya andalanku', 'type': 'comment'}, {'text': 'pebrialrizqan', 'type': 'comment'}, {'text': 'abangkuuuu', 'type': 'comment'}, {'text': 'coach.tria', 'type': 'comment'}, {'text': 'Keren lu blek🔥', 'type': 'comment'}, {'text': 'sakadiata', 'type': 'comment'}, {'text': 'bisa ga sihh ngelike bang blek 10.000 kali😍😍', 'type': 'comment'}, {'text': 'almezaa_', 'type': 'comment'}, {'text': '🔥', 'type': 'comment'}, {'text': 'glnnny', 'type': 'comment'}, {'text': 'ngeri kk', 'type': 'comment'}, {'text': 'naufalck', 'type': 'comment'}, {'text': 'kelas jon goal getter baru', 'type': 'comment'}, {'text': 'ahmfaauzi', 'type': 'comment'}, {'text': 'Gitu dong juaraa', 'type': 'comment'}, {'text': 'dzakyprdnaa', 'type': 'comment'}, {'text': 'ilmu padi🙌', 'type': 'comment'}, {'text': 'kheifalv', 'type': 'comment'}, {'text': 'gaada lawan emang rusher aing, menyala kakaa🔥🔥🔥', 'type': 'comment'}, {'text': 'febrian_thomas7', 'type': 'comment'}, {'text': 'boulehhh', 'type': 'comment'}, {'text': 'jhereoctavian', 'type': 'comment'}, {'text': 'blek', 'type': 'comment'}, {'text': '272 likes', 'type': 'comment'}], [{'text': 'jagoonyaa guee', 'type': 'caption'}, {'text': 'divaraandhaaru\\xa0133wjagoonyaa guee', 'type': 'comment'}, {'text': 'arkhanaufal', 'type': 'comment'}, {'text': 'malesnya gue', 'type': 'comment'}, {'text': 'azzidan.fr', 'type': 'comment'}, {'text': 'ye jamet', 'type': 'comment'}, {'text': 'fadill25', 'type': 'comment'}, {'text': 'wuih vinicius', 'type': 'comment'}, {'text': 'nadiaafitriana', 'type': 'comment'}, {'text': 'madun', 'type': 'comment'}, {'text': 'ariifprtmaa', 'type': 'comment'}, {'text': 'abarebarebare', 'type': 'comment'}, {'text': 'ndhraksm', 'type': 'comment'}, {'text': 'jago bgt😍', 'type': 'comment'}, {'text': 'ivanpryu', 'type': 'comment'}, {'text': 'aubameyangg', 'type': 'comment'}, {'text': 'abiedinnnn', 'type': 'comment'}, {'text': 'bang jago', 'type': 'comment'}, {'text': 'nadhifa.larasati', 'type': 'comment'}, {'text': 'akhirnya gamain di alam ya', 'type': 'comment'}, {'text': 'adindadiandra', 'type': 'comment'}, {'text': 'dih menel', 'type': 'comment'}, {'text': '250 likes', 'type': 'comment'}], [{'text': 'kelakuan manusia umur 20', 'type': 'caption'}, {'text': 'divaraandhaaru\\xa012wkelakuan manusia umur 20', 'type': 'comment'}, {'text': 'devart_15', 'type': 'comment'}, {'text': 'Kerenn adek2👏 yukk kapan2 mendaki sama2', 'type': 'comment'}, {'text': 'coach.tria', 'type': 'comment'}, {'text': 'Lu pada gak sadar apa 10 tahun lagi umur lo pada 30?', 'type': 'comment'}, {'text': 'sesyps_', 'type': 'comment'}, {'text': 'Saur cute', 'type': 'comment'}, {'text': 'jibrilhw', 'type': 'comment'}, {'text': 'ganteng\" bgt', 'type': 'comment'}, {'text': 'jhereoctavian', 'type': 'comment'}, {'text': 'boleh join sirkelnya ga?', 'type': 'comment'}, {'text': 'yohanesyudhistira', 'type': 'comment'}, {'text': '😍😍😍', 'type': 'comment'}, {'text': 'diiiannarefa', 'type': 'comment'}, {'text': 'Kak divara tolong cek DM requestnya yah saya kirim pesan ke kakak, terimakasih banyak sehat selalu yah kak amin🙏🏻', 'type': 'comment'}, {'text': '128 likes', 'type': 'comment'}], [{'text': 'i cool 🔥', 'type': 'caption'}, {'text': 'divaraandhaaru\\xa0215wi cool 🔥', 'type': 'comment'}, {'text': 'yohanesyudhistira', 'type': 'comment'}, {'text': 'kasino cooll', 'type': 'comment'}, {'text': 'hafidz_akhsan', 'type': 'comment'}, {'text': '🙌🙌', 'type': 'comment'}, {'text': 'faturmrizqi_', 'type': 'comment'}, {'text': 'Gada obat', 'type': 'comment'}, {'text': 'jenifer_hudson9', 'type': 'comment'}, {'text': 'Idola dah', 'type': 'comment'}, {'text': 'shintaaprll', 'type': 'comment'}, {'text': 'ganteng bgt kak', 'type': 'comment'}, {'text': 'rayhandirad', 'type': 'comment'}, {'text': 'aihh cool sangat', 'type': 'comment'}, {'text': 'ivanpryu', 'type': 'comment'}, {'text': 'i cool dibalik cooli', 'type': 'comment'}, {'text': 'seprian_najib', 'type': 'comment'}, {'text': 'Cool kok gosong kak ?', 'type': 'comment'}, {'text': 'rerelandana', 'type': 'comment'}, {'text': 'idih tsadeeest', 'type': 'comment'}, {'text': 'faruqiie', 'type': 'comment'}, {'text': 'ih uda cool tampan lg', 'type': 'comment'}, {'text': 'alifrhmdhna', 'type': 'comment'}, {'text': 'ampun bang', 'type': 'comment'}, {'text': 'ekscelente', 'type': 'comment'}, {'text': 'Dingin ga dip', 'type': 'comment'}, {'text': 'ammarshddq', 'type': 'comment'}, {'text': 'kok lu nulis i cool make cat putih di badan lu dah', 'type': 'comment'}, {'text': 'kevinhaalim', 'type': 'comment'}, {'text': 'kulkas kali', 'type': 'comment'}, {'text': 'div.anka', 'type': 'comment'}, {'text': 'Handsome nya', 'type': 'comment'}, {'text': '332 likes', 'type': 'comment'}], [{'text': '#prayforamazonia', 'type': 'caption'}, {'text': 'divaraandhaaru\\xa0222w#prayforamazonia', 'type': 'comment'}, {'text': 'dhndaniesa', 'type': 'comment'}, {'text': 'drop', 'type': 'comment'}, {'text': 'nathania.jmp', 'type': 'comment'}, {'text': 'tokenung, toke gunung 👍', 'type': 'comment'}, {'text': 'slwap', 'type': 'comment'}, {'text': 'gila km gntg parah🔥😍😍🤩🤩😭', 'type': 'comment'}, {'text': 'rafialif_26', 'type': 'comment'}, {'text': 'Ahh gilaa kumis nya bikin seger', 'type': 'comment'}, {'text': '322 likes', 'type': 'comment'}]]\n"
     ]
    }
   ],
   "source": [
    "from selenium.common.exceptions import TimeoutException\n",
    "\n",
    "def extract_data(soup):\n",
    "    captions = soup.findAll('span', class_='x193iq5w xeuugli x1fj9vlw x13faqbe x1vvkbs xt0psk2 x1i0vuye xvs91rp xo1l8bm x5n08af x10wh9bi x1wdrske x8viiok x18hxmgj')\n",
    "    comments = soup.findAll('span', class_='x1lliihq x1plvlek xryxfnj x1n2onr6 x193iq5w xeuugli x1fj9vlw x13faqbe x1vvkbs x1s928wv xhkezso x1gmr53x x1cpjm7i x1fgarty x1943h6x x1i0vuye xvs91rp xo1l8bm x5n08af x10wh9bi x1wdrske x8viiok x18hxmgj')\n",
    "\n",
    "    \n",
    "    data = []\n",
    "    \n",
    "    for caption in captions:\n",
    "        data.append({'text': caption.text.strip(), 'type': 'caption'})\n",
    "    \n",
    "    for comment in comments:\n",
    "        data.append({'text': comment.text.strip(), 'type': 'comment'})\n",
    "\n",
    "    # print(data)\n",
    "    return data\n",
    "\n",
    "mainData = []\n",
    "for link in unique_links_list:\n",
    "    driver.get(link)\n",
    "    time.sleep(5)\n",
    "    try:\n",
    "        # Get the page source using driver.page_source\n",
    "        html_content = driver.page_source\n",
    "        \n",
    "        # Create a BeautifulSoup soup object\n",
    "        soup = BeautifulSoup(html_content, 'html.parser')\n",
    "        # print(soup)\n",
    "\n",
    "        data = extract_data(soup)\n",
    "        mainData.append(data)\n",
    "        print('Data parse successfully')\n",
    "    except NoSuchElementException:\n",
    "        print('No data, no element')\n",
    "    except TimeoutException:\n",
    "        print('No data, timeout')\n",
    "    finally: \n",
    "        print('Process completed for the link:', link)\n",
    "print(mainData)"
   ]
  },
  {
   "cell_type": "code",
   "execution_count": null,
   "id": "f0b4b64b",
   "metadata": {},
   "outputs": [],
   "source": [
    "df = pd.DataFrame(Data)\n",
    "df.to_csv('BLEK.csv', index=False)"
   ]
  }
 ],
 "metadata": {
  "kernelspec": {
   "display_name": "Python 3 (ipykernel)",
   "language": "python",
   "name": "python3"
  },
  "language_info": {
   "codemirror_mode": {
    "name": "ipython",
    "version": 3
   },
   "file_extension": ".py",
   "mimetype": "text/x-python",
   "name": "python",
   "nbconvert_exporter": "python",
   "pygments_lexer": "ipython3",
   "version": "3.11.0"
  }
 },
 "nbformat": 4,
 "nbformat_minor": 5
}
