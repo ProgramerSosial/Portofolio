{
 "cells": [
  {
   "cell_type": "markdown",
   "id": "3fbb325f-1862-4979-b72f-7ff555b45614",
   "metadata": {},
   "source": [
    "## LIBRARY"
   ]
  },
  {
   "cell_type": "code",
   "execution_count": 1,
   "id": "28b8e499-96b8-4be7-9e75-b594d004fda9",
   "metadata": {},
   "outputs": [],
   "source": [
    "import selenium\n",
    "from bs4 import BeautifulSoup\n",
    "import requests\n",
    "from selenium import webdriver\n",
    "from selenium.webdriver.common.by import By\n",
    "from selenium.webdriver.common.keys import Keys\n",
    "import time\n",
    "import json\n",
    "from getpass import getpass"
   ]
  },
  {
   "cell_type": "code",
   "execution_count": 2,
   "id": "3f545ad8-faac-4655-a77f-b3e3f159dd0f",
   "metadata": {},
   "outputs": [],
   "source": [
    "from selenium import webdriver\n",
    "from selenium.webdriver.common.keys import Keys\n",
    "from selenium.webdriver.support import expected_conditions as EC\n",
    "from selenium.webdriver.common.by import By\n",
    "from selenium.webdriver.support.wait import WebDriverWait\n",
    "from selenium.webdriver.chrome.service import Service\n",
    "import time\n",
    "import re\n",
    "import threading\n",
    "import pandas as pd\n",
    "from selenium.webdriver.common.action_chains import ActionChains\n",
    "from selenium.webdriver.support.ui import Select"
   ]
  },
  {
   "cell_type": "markdown",
   "id": "c273d18d-6a04-4510-b7bd-3d00d917d360",
   "metadata": {},
   "source": [
    "## SELENIUM"
   ]
  },
  {
   "cell_type": "code",
   "execution_count": 3,
   "id": "aa3f33be-4408-447e-b60e-2ee6667213fe",
   "metadata": {},
   "outputs": [],
   "source": [
    "from selenium import webdriver\n",
    "\n",
    "# Mulai sesi Chrome WebDriver\n",
    "driver = webdriver.Chrome()\n",
    "\n",
    "# Buka halaman web\n",
    "driver.get(\"https://dapo.kemdikbud.go.id/sp\")"
   ]
  },
  {
   "cell_type": "code",
   "execution_count": 7,
   "id": "2c514065-0ed1-49ff-a8af-4c84bc6070f4",
   "metadata": {},
   "outputs": [],
   "source": [
    "link_sekolah_bandung = []\n",
    "nama_sekolah = []\n",
    "\n",
    "for i in link_bandung_SMA:\n",
    "    driver.get(i)\n",
    "    time.sleep(2)\n",
    "    jenjang = Select(driver.find_element(By.ID, \"selectJenjang\"))\n",
    "    jenjang.select_by_value(\"sma\")\n",
    "    selected_option = driver.find_element(By.CSS_SELECTOR, \"#selectJenjang option[value='sma']\")\n",
    "    selected_option.click()\n",
    "    time.sleep(2)\n",
    "    elements_sekolah = driver.find_elements(By.TAG_NAME, \"a\")\n",
    "    for sekolah in elements_sekolah:\n",
    "        href = sekolah.get_attribute(\"href\").strip()\n",
    "        if href and \"https://dapo.kemdikbud.go.id/sekolah/\" in href:\n",
    "            link_sekolah_bandung.append(href)\n",
    "\n",
    "        nama = sekolah.text.strip()\n",
    "        if nama and \"SMA\" in nama:\n",
    "            nama_sekolah.append(nama)"
   ]
  },
  {
   "cell_type": "code",
   "execution_count": 15,
   "id": "2216b820-5fb0-4e5f-9f31-2819ccbeb7d1",
   "metadata": {},
   "outputs": [],
   "source": [
    "for i in nama_sekolah:\n",
    "    if i == \"Direktorat SMA\":\n",
    "        nama_sekolah.remove(i)"
   ]
  },
  {
   "cell_type": "code",
   "execution_count": 16,
   "id": "c2601149-086d-4e4b-b589-5c7859d5347d",
   "metadata": {},
   "outputs": [],
   "source": [
    "# Misalkan Anda telah membuat DataFrame data dan data1\n",
    "data = pd.DataFrame(nama_sekolah, columns=[\"Nama Sekolah\"])\n",
    "data1 = pd.DataFrame(link_sekolah_bandung, columns=[\"Link Sekolah Kota Bandung\"])\n",
    "\n",
    "# Gabungkan DataFrame\n",
    "df = pd.concat([data, data1], axis=1)"
   ]
  },
  {
   "cell_type": "code",
   "execution_count": 18,
   "id": "d94f1ca8-fd1c-41c5-bf30-7e5427929e2f",
   "metadata": {},
   "outputs": [],
   "source": [
    "df.to_csv(\"Data_SMA_Bandung.csv\")"
   ]
  },
  {
   "cell_type": "markdown",
   "id": "08fcec86-0a67-479b-a95a-8a8862935ecb",
   "metadata": {},
   "source": [
    "## AMBIL DATA"
   ]
  },
  {
   "cell_type": "code",
   "execution_count": 21,
   "id": "1abeb2bf-4216-4e3e-8aff-14ad76cecadf",
   "metadata": {},
   "outputs": [],
   "source": [
    "url_kemendikbud = []\n",
    "\n",
    "for url in links:\n",
    "    try:\n",
    "        # Buka URL data sekolah\n",
    "        driver.get(url)\n",
    "        time.sleep(0.3)\n",
    "        \n",
    "        # Temukan elemen HTML yang diinginkan berdasarkan kelas CSS\n",
    "        element = driver.find_element(By.CSS_SELECTOR, '.profile-userbuttons a')\n",
    "        \n",
    "        # Dapatkan nilai atribut href dari elemen tersebut\n",
    "        href = element.get_attribute('href')\n",
    "        \n",
    "        # Tambahkan URL Kemendikbud ke dalam list\n",
    "        url_kemendikbud.append(href)\n",
    "    except Exception as e:\n",
    "        # Tangkap dan tampilkan kesalahan jika terjadi\n",
    "        print(f\"Gagal mengambil URL untuk {url}: {e}\")\n",
    "        url_kemendikbud.append(\"gk nemu\")"
   ]
  },
  {
   "cell_type": "markdown",
   "id": "8dd544f8-5ec8-4953-9337-12110a058602",
   "metadata": {},
   "source": [
    "## AMBIL KELAS 6"
   ]
  },
  {
   "cell_type": "code",
   "execution_count": 25,
   "id": "e1c5f91b-98df-477a-b4b9-889496632b37",
   "metadata": {},
   "outputs": [
    {
     "name": "stdout",
     "output_type": "stream",
     "text": [
      "Tidak cukup elemen <td> dalam HTML.\n"
     ]
    }
   ],
   "source": [
    "kelas12 = []\n",
    "\n",
    "for link in links:\n",
    "    # Kunjungi URL atau lakukan tindakan lain yang sesuai dengan URL\n",
    "    driver.get(link)\n",
    "    time.sleep(2)\n",
    "\n",
    "    # Dapatkan HTML halaman saat ini\n",
    "    html = driver.page_source\n",
    "    \n",
    "    # Parsing HTML menggunakan BeautifulSoup\n",
    "    soup = BeautifulSoup(html, 'html.parser')\n",
    "    \n",
    "    # Temukan semua elemen <td>\n",
    "    td_elements = soup.find_all('td')\n",
    "    \n",
    "    # # Cetak teks dari elemen <td> dengan indeks 15\n",
    "    if len(td_elements) >= 7:  # Pastikan ada cukup elemen <td>\n",
    "        text_td_9 = td_elements[9].text\n",
    "        kelas12.append(text_td_9)\n",
    "    \n",
    "    else:\n",
    "        print(\"Tidak cukup elemen <td> dalam HTML.\")\n",
    "        kelas12.append(\"gak ditemukan\")"
   ]
  },
  {
   "cell_type": "code",
   "execution_count": null,
   "id": "c9d821b8-9bb6-4798-b8c7-3b9d0532ce4e",
   "metadata": {},
   "outputs": [],
   "source": []
  },
  {
   "cell_type": "code",
   "execution_count": null,
   "id": "5d63d34e-a322-42df-939b-211c475fe472",
   "metadata": {},
   "outputs": [],
   "source": []
  }
 ],
 "metadata": {
  "kernelspec": {
   "display_name": "Python 3 (ipykernel)",
   "language": "python",
   "name": "python3"
  },
  "language_info": {
   "codemirror_mode": {
    "name": "ipython",
    "version": 3
   },
   "file_extension": ".py",
   "mimetype": "text/x-python",
   "name": "python",
   "nbconvert_exporter": "python",
   "pygments_lexer": "ipython3",
   "version": "3.11.5"
  }
 },
 "nbformat": 4,
 "nbformat_minor": 5
}
